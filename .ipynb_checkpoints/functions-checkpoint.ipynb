{
 "cells": [
  {
   "cell_type": "markdown",
   "id": "c16014cb-bcde-4c1a-bcde-902473381dd7",
   "metadata": {},
   "source": [
    "<h1>Functions</h1>\n",
    "<li>Creating clean repeatable code is a key part of becoming an effective</li>\n",
    "<li>Functions allow us to create blocks of code that can be easily executed many times, without needing to constantly rewrite the entire block of code</li>\n",
    "<li>Functions will be huge leap forward in your capabilities as a Python</li>\n",
    "<li>This means that the problems you are able to solve can also be a lot harder!</li>\n",
    "<li>It is very important to get practice combining everything you've learned so far (control flow, loops, etc.) with functions to become an effective programmer</li>"
   ]
  },
  {
   "cell_type": "markdown",
   "id": "e1d604c0-cd23-482e-85d4-e606ae7b3285",
   "metadata": {},
   "source": [
    "<h2>def Keyword</h2>\n",
    "<li>Creating a function requires a very specific syntax, including the def keyword, correct indentation, and proper structure</li>\n",
    "\n",
    "<code>def name_of_function():</code>\n",
    "<li>def keyword telling Python this is a function</li>\n",
    "<li>Snake casing is all lowercase with underscores between words</li>\n",
    "<li>Parenthesis at the end. Later on we can pass in arguments/parameters into the function</li>\n",
    "<li>A colon indicates an upcoming indented block. Everything indented is then \"inside\" the function</li>\n",
    "<li>Typically we use the return keyword to send back the result of the function, instead of just printing it out</li>\n",
    "<li>return allows us to assign the output of the function to a new variable</li>"
   ]
  },
  {
   "cell_type": "code",
   "execution_count": 3,
   "id": "d63367f0-e1f9-4121-8b27-3d9215a1fc8f",
   "metadata": {},
   "outputs": [],
   "source": [
    "def say_hello():\n",
    "    print('Hello')\n",
    "    print(\"how\")\n",
    "    print(\"are\")\n",
    "    print(\"you\")"
   ]
  },
  {
   "cell_type": "code",
   "execution_count": 4,
   "id": "d43f3f5d-8bda-47e9-8951-a5aebee208be",
   "metadata": {},
   "outputs": [
    {
     "name": "stdout",
     "output_type": "stream",
     "text": [
      "Hello\n",
      "how\n",
      "are\n",
      "you\n"
     ]
    }
   ],
   "source": [
    "say_hello()"
   ]
  },
  {
   "cell_type": "code",
   "execution_count": 6,
   "id": "6815da2d-ab39-4054-a031-8582ecf2e9bb",
   "metadata": {},
   "outputs": [
    {
     "data": {
      "text/plain": [
       "<function __main__.say_hello()>"
      ]
     },
     "execution_count": 6,
     "metadata": {},
     "output_type": "execute_result"
    }
   ],
   "source": [
    "say_hello"
   ]
  },
  {
   "cell_type": "code",
   "execution_count": 7,
   "id": "a8353f71-efd9-440a-beb5-dc5a5c77b652",
   "metadata": {},
   "outputs": [],
   "source": [
    "def say_hello(name):\n",
    "    print(f'Hello, {name}')"
   ]
  },
  {
   "cell_type": "code",
   "execution_count": 8,
   "id": "628028e4-46c6-420f-81ad-55ac7a3dedca",
   "metadata": {},
   "outputs": [
    {
     "name": "stdout",
     "output_type": "stream",
     "text": [
      "Hello, Axel\n"
     ]
    }
   ],
   "source": [
    "say_hello('Axel')"
   ]
  },
  {
   "cell_type": "code",
   "execution_count": 9,
   "id": "c0479acb-ce56-41f6-8ee9-f34a41bd2941",
   "metadata": {},
   "outputs": [],
   "source": [
    "def say_hello(name='Axel'):\n",
    "    print(f'Hello, {name}')"
   ]
  },
  {
   "cell_type": "code",
   "execution_count": 10,
   "id": "34bd0dfd-6c83-4428-bdca-13f395242c9c",
   "metadata": {},
   "outputs": [
    {
     "name": "stdout",
     "output_type": "stream",
     "text": [
      "Hello, Axel\n"
     ]
    }
   ],
   "source": [
    "say_hello()"
   ]
  },
  {
   "cell_type": "code",
   "execution_count": 11,
   "id": "76f42c41-b48d-43ca-8aac-32e27115fbc4",
   "metadata": {},
   "outputs": [
    {
     "name": "stdout",
     "output_type": "stream",
     "text": [
      "Hello, Ara\n"
     ]
    }
   ],
   "source": [
    "name = 'Ara'\n",
    "say_hello(name)"
   ]
  },
  {
   "cell_type": "code",
   "execution_count": 12,
   "id": "f6fdda8d-fb4d-4647-9426-9f8b1788fd88",
   "metadata": {},
   "outputs": [],
   "source": [
    "def add_num(num1, num2):\n",
    "    return num1 + num2"
   ]
  },
  {
   "cell_type": "code",
   "execution_count": 13,
   "id": "0fc39f12-d972-4b40-ac05-1f7b6c179033",
   "metadata": {},
   "outputs": [
    {
     "data": {
      "text/plain": [
       "30"
      ]
     },
     "execution_count": 13,
     "metadata": {},
     "output_type": "execute_result"
    }
   ],
   "source": [
    "result = add_num(10,20)\n",
    "result"
   ]
  },
  {
   "cell_type": "code",
   "execution_count": 14,
   "id": "8ee6cb4a-f8a1-4964-9653-fcadf6b3a3e4",
   "metadata": {},
   "outputs": [],
   "source": [
    "def print_result(a, b):\n",
    "    print(a + b)"
   ]
  },
  {
   "cell_type": "code",
   "execution_count": 15,
   "id": "e1386d86-1486-4630-a335-9fde77ca9302",
   "metadata": {},
   "outputs": [],
   "source": [
    "def return_result(a, b):\n",
    "    return a + b"
   ]
  },
  {
   "cell_type": "code",
   "execution_count": 17,
   "id": "06e721dd-d8e3-4793-82b9-fc48f529e71f",
   "metadata": {},
   "outputs": [
    {
     "name": "stdout",
     "output_type": "stream",
     "text": [
      "30\n"
     ]
    }
   ],
   "source": [
    "result = print_result(10, 20)"
   ]
  },
  {
   "cell_type": "code",
   "execution_count": 18,
   "id": "537f7894-5301-4cf3-ad71-0747236071c5",
   "metadata": {},
   "outputs": [],
   "source": [
    "result"
   ]
  },
  {
   "cell_type": "code",
   "execution_count": 19,
   "id": "55b99bd8-00fe-417e-a179-adb2ba247e4e",
   "metadata": {},
   "outputs": [
    {
     "data": {
      "text/plain": [
       "NoneType"
      ]
     },
     "execution_count": 19,
     "metadata": {},
     "output_type": "execute_result"
    }
   ],
   "source": [
    "type(result)"
   ]
  },
  {
   "cell_type": "code",
   "execution_count": 20,
   "id": "87fc4288-9abb-491d-8ef5-663bf6a54a5a",
   "metadata": {},
   "outputs": [],
   "source": [
    "result = return_result(10, 20)"
   ]
  },
  {
   "cell_type": "code",
   "execution_count": 21,
   "id": "0e8ed698-2c76-4606-8038-66fe17b2314f",
   "metadata": {},
   "outputs": [
    {
     "data": {
      "text/plain": [
       "30"
      ]
     },
     "execution_count": 21,
     "metadata": {},
     "output_type": "execute_result"
    }
   ],
   "source": [
    "result"
   ]
  },
  {
   "cell_type": "code",
   "execution_count": 22,
   "id": "69897738-1765-4098-b7a6-94006f7f4e17",
   "metadata": {},
   "outputs": [
    {
     "data": {
      "text/plain": [
       "int"
      ]
     },
     "execution_count": 22,
     "metadata": {},
     "output_type": "execute_result"
    }
   ],
   "source": [
    "type(result)"
   ]
  },
  {
   "cell_type": "code",
   "execution_count": 23,
   "id": "447cfcfe-2fee-4228-92ac-44520b55fde5",
   "metadata": {},
   "outputs": [],
   "source": [
    "def myfunc(a, b):\n",
    "    print(a + b)\n",
    "    return a + b"
   ]
  },
  {
   "cell_type": "code",
   "execution_count": 24,
   "id": "bd9d251d-4e80-444e-8c5f-3342e07ac453",
   "metadata": {},
   "outputs": [
    {
     "name": "stdout",
     "output_type": "stream",
     "text": [
      "30\n"
     ]
    }
   ],
   "source": [
    "result = myfunc(10, 20)"
   ]
  },
  {
   "cell_type": "code",
   "execution_count": 25,
   "id": "612299c0-b8ea-48f9-a38f-90cd26c23b53",
   "metadata": {},
   "outputs": [
    {
     "data": {
      "text/plain": [
       "30"
      ]
     },
     "execution_count": 25,
     "metadata": {},
     "output_type": "execute_result"
    }
   ],
   "source": [
    "result"
   ]
  },
  {
   "cell_type": "code",
   "execution_count": 26,
   "id": "738ed210-977d-4c37-926b-71a0de68cfb0",
   "metadata": {},
   "outputs": [],
   "source": [
    "def sum_numbers(num1, num2):\n",
    "    return num1 + num2"
   ]
  },
  {
   "cell_type": "code",
   "execution_count": 27,
   "id": "74fbe4e4-0191-498d-ae0d-ad6c36711bbe",
   "metadata": {},
   "outputs": [
    {
     "data": {
      "text/plain": [
       "30"
      ]
     },
     "execution_count": 27,
     "metadata": {},
     "output_type": "execute_result"
    }
   ],
   "source": [
    "sum_numbers(10, 20)"
   ]
  },
  {
   "cell_type": "code",
   "execution_count": 28,
   "id": "17aea2c8-a25d-4d33-89be-35b0195a1cad",
   "metadata": {},
   "outputs": [
    {
     "data": {
      "text/plain": [
       "'1020'"
      ]
     },
     "execution_count": 28,
     "metadata": {},
     "output_type": "execute_result"
    }
   ],
   "source": [
    "sum_numbers('10', '20')"
   ]
  },
  {
   "cell_type": "markdown",
   "id": "b8f4f3d0-8605-459c-b544-1a94cfb29a07",
   "metadata": {},
   "source": [
    "<h2>Functions with Logic</h2>"
   ]
  },
  {
   "cell_type": "code",
   "execution_count": 29,
   "id": "e40c3af8-d55e-447c-bc13-31bae91b1a3e",
   "metadata": {},
   "outputs": [
    {
     "data": {
      "text/plain": [
       "0"
      ]
     },
     "execution_count": 29,
     "metadata": {},
     "output_type": "execute_result"
    }
   ],
   "source": [
    "2 % 2"
   ]
  },
  {
   "cell_type": "code",
   "execution_count": 30,
   "id": "4de5895a-0e80-4120-a75a-d58e01c42b98",
   "metadata": {},
   "outputs": [
    {
     "data": {
      "text/plain": [
       "1"
      ]
     },
     "execution_count": 30,
     "metadata": {},
     "output_type": "execute_result"
    }
   ],
   "source": [
    "3 % 2"
   ]
  },
  {
   "cell_type": "code",
   "execution_count": 31,
   "id": "fedb7d30-1c48-47e1-ac46-6066f63c6ec1",
   "metadata": {},
   "outputs": [
    {
     "data": {
      "text/plain": [
       "1"
      ]
     },
     "execution_count": 31,
     "metadata": {},
     "output_type": "execute_result"
    }
   ],
   "source": [
    "41 % 40"
   ]
  },
  {
   "cell_type": "code",
   "execution_count": 36,
   "id": "2ebe1b16-e5c9-4e11-aac6-f46ee4045c6d",
   "metadata": {},
   "outputs": [],
   "source": [
    "def even_check(number):\n",
    "    #result = number % 2 == 0\n",
    "    #return result\n",
    "    return number % 2 == 0"
   ]
  },
  {
   "cell_type": "code",
   "execution_count": 37,
   "id": "68b12f24-1c92-41eb-bf2c-80ff00faabbb",
   "metadata": {},
   "outputs": [
    {
     "data": {
      "text/plain": [
       "True"
      ]
     },
     "execution_count": 37,
     "metadata": {},
     "output_type": "execute_result"
    }
   ],
   "source": [
    "even_check(20)"
   ]
  },
  {
   "cell_type": "code",
   "execution_count": 38,
   "id": "11fe8287-85c9-4372-85c6-42036371386e",
   "metadata": {},
   "outputs": [
    {
     "data": {
      "text/plain": [
       "False"
      ]
     },
     "execution_count": 38,
     "metadata": {},
     "output_type": "execute_result"
    }
   ],
   "source": [
    "even_check(21)"
   ]
  },
  {
   "cell_type": "code",
   "execution_count": 39,
   "id": "b4fe0c2d-1acf-4cc6-b919-1734299c18ca",
   "metadata": {},
   "outputs": [],
   "source": [
    "# Return True if any number is even inside a list"
   ]
  },
  {
   "cell_type": "code",
   "execution_count": 51,
   "id": "6a0d5ffc-66c3-4a88-98cc-64f4fd6a87ef",
   "metadata": {},
   "outputs": [],
   "source": [
    "def check_even_list(num_list):\n",
    "    # return all the even numbers in a list\n",
    "    \n",
    "    # placeholder variables\n",
    "    even_numbers = []\n",
    "    \n",
    "    for number in num_list:\n",
    "        if number % 2 == 0:\n",
    "            even_numbers.append(number)\n",
    "        else:\n",
    "            pass\n",
    "    return even_numbers"
   ]
  },
  {
   "cell_type": "code",
   "execution_count": 52,
   "id": "5430b307-165c-48b3-9ce0-45b9a31ed81e",
   "metadata": {},
   "outputs": [
    {
     "data": {
      "text/plain": [
       "[]"
      ]
     },
     "execution_count": 52,
     "metadata": {},
     "output_type": "execute_result"
    }
   ],
   "source": [
    "check_even_list([1,3,5])"
   ]
  },
  {
   "cell_type": "code",
   "execution_count": 53,
   "id": "5d3668be-4c22-4535-b6de-d3a21fb77f0a",
   "metadata": {},
   "outputs": [
    {
     "data": {
      "text/plain": [
       "[2, 4]"
      ]
     },
     "execution_count": 53,
     "metadata": {},
     "output_type": "execute_result"
    }
   ],
   "source": [
    "check_even_list([2,4,5])"
   ]
  },
  {
   "cell_type": "code",
   "execution_count": 54,
   "id": "307fe46b-56b5-46ed-8b19-df46a60683ef",
   "metadata": {},
   "outputs": [
    {
     "data": {
      "text/plain": [
       "[2, 4, 6]"
      ]
     },
     "execution_count": 54,
     "metadata": {},
     "output_type": "execute_result"
    }
   ],
   "source": [
    "check_even_list([1,2,3,4,5,6])"
   ]
  },
  {
   "cell_type": "code",
   "execution_count": null,
   "id": "726e102d-6e72-4624-bbdc-65f145a518bb",
   "metadata": {},
   "outputs": [],
   "source": []
  }
 ],
 "metadata": {
  "kernelspec": {
   "display_name": "Python 3 (ipykernel)",
   "language": "python",
   "name": "python3"
  },
  "language_info": {
   "codemirror_mode": {
    "name": "ipython",
    "version": 3
   },
   "file_extension": ".py",
   "mimetype": "text/x-python",
   "name": "python",
   "nbconvert_exporter": "python",
   "pygments_lexer": "ipython3",
   "version": "3.11.7"
  }
 },
 "nbformat": 4,
 "nbformat_minor": 5
}
