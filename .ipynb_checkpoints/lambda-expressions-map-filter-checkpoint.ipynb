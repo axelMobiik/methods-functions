{
 "cells": [
  {
   "cell_type": "markdown",
   "id": "20c13813-54f3-41a7-83b1-ca969f274c4a",
   "metadata": {},
   "source": [
    "<h1>Lambda Expressions - Map and Filter</h1>"
   ]
  },
  {
   "cell_type": "code",
   "execution_count": 1,
   "id": "268af1c8-8beb-4304-bc6b-85647bc45000",
   "metadata": {},
   "outputs": [],
   "source": [
    "def square(num):\n",
    "    return num**2"
   ]
  },
  {
   "cell_type": "code",
   "execution_count": 2,
   "id": "39d96c8f-dbd5-49e6-a4ff-86aa9f6edd08",
   "metadata": {},
   "outputs": [],
   "source": [
    "my_nums = [1,2,3,4,5]"
   ]
  },
  {
   "cell_type": "code",
   "execution_count": 5,
   "id": "3c880b58-83e0-4f1a-907d-d5d1f4c92806",
   "metadata": {},
   "outputs": [
    {
     "name": "stdout",
     "output_type": "stream",
     "text": [
      "1\n",
      "4\n",
      "9\n",
      "16\n",
      "25\n"
     ]
    }
   ],
   "source": [
    "for item in map(square, my_nums):\n",
    "    print(item)"
   ]
  },
  {
   "cell_type": "code",
   "execution_count": 6,
   "id": "12850001-3493-4501-a3a8-3581dc5cb880",
   "metadata": {},
   "outputs": [
    {
     "data": {
      "text/plain": [
       "[1, 4, 9, 16, 25]"
      ]
     },
     "execution_count": 6,
     "metadata": {},
     "output_type": "execute_result"
    }
   ],
   "source": [
    "list(map(square, my_nums))"
   ]
  },
  {
   "cell_type": "code",
   "execution_count": 7,
   "id": "babad625-0c19-46b0-abf1-bc751c5f3ec1",
   "metadata": {},
   "outputs": [],
   "source": [
    "def splicer(mystring):\n",
    "    if len(mystring)%2 == 0:\n",
    "        return 'EVEN'\n",
    "    else:\n",
    "        return mystring[0]"
   ]
  },
  {
   "cell_type": "code",
   "execution_count": 8,
   "id": "ba1f44e8-6008-45d9-8ca5-0a5cacffe33f",
   "metadata": {},
   "outputs": [],
   "source": [
    "names = ['Axel', 'Ara', 'German']"
   ]
  },
  {
   "cell_type": "code",
   "execution_count": 9,
   "id": "679039c1-b1c2-442d-b52d-11aed9e8d539",
   "metadata": {},
   "outputs": [
    {
     "data": {
      "text/plain": [
       "['EVEN', 'A', 'EVEN']"
      ]
     },
     "execution_count": 9,
     "metadata": {},
     "output_type": "execute_result"
    }
   ],
   "source": [
    "list(map(splicer, names))"
   ]
  },
  {
   "cell_type": "code",
   "execution_count": 12,
   "id": "eae79c95-309f-4bfc-93a8-665a98d82f5c",
   "metadata": {},
   "outputs": [],
   "source": [
    "def check_even(num):\n",
    "    return num%2 == 0"
   ]
  },
  {
   "cell_type": "code",
   "execution_count": 13,
   "id": "0a583936-0ae2-4177-95fa-403cd345eccf",
   "metadata": {},
   "outputs": [],
   "source": [
    "mynums = [1,2,3,4,5,6]"
   ]
  },
  {
   "cell_type": "code",
   "execution_count": 15,
   "id": "7afa9d21-0263-4329-8041-36b191276afb",
   "metadata": {},
   "outputs": [
    {
     "data": {
      "text/plain": [
       "[2, 4, 6]"
      ]
     },
     "execution_count": 15,
     "metadata": {},
     "output_type": "execute_result"
    }
   ],
   "source": [
    "list(filter(check_even, mynums))"
   ]
  },
  {
   "cell_type": "code",
   "execution_count": 16,
   "id": "b444d57d-aa0f-489d-9129-f6feddbb21c3",
   "metadata": {},
   "outputs": [
    {
     "name": "stdout",
     "output_type": "stream",
     "text": [
      "2\n",
      "4\n",
      "6\n"
     ]
    }
   ],
   "source": [
    "for n in filter(check_even, mynums):\n",
    "    print(n)"
   ]
  },
  {
   "cell_type": "code",
   "execution_count": 23,
   "id": "fca313ba-aadf-4d54-9c09-be6d77ddb9e2",
   "metadata": {},
   "outputs": [],
   "source": [
    "#def square(num):\n",
    "#    result = num ** 2\n",
    "#    return result\n",
    "\n",
    "def square(num): return num ** 2"
   ]
  },
  {
   "cell_type": "code",
   "execution_count": 24,
   "id": "9f6a2086-2fec-4c58-91fe-1b19983614e6",
   "metadata": {},
   "outputs": [
    {
     "data": {
      "text/plain": [
       "9"
      ]
     },
     "execution_count": 24,
     "metadata": {},
     "output_type": "execute_result"
    }
   ],
   "source": [
    "square(3)"
   ]
  },
  {
   "cell_type": "code",
   "execution_count": 29,
   "id": "2f991ed0-833f-46ff-b5e0-626d43723a4d",
   "metadata": {},
   "outputs": [],
   "source": [
    "#Lambda function (annonymous function)\n",
    "square_v2 = lambda num: num ** 2"
   ]
  },
  {
   "cell_type": "code",
   "execution_count": 30,
   "id": "f73ad9d7-8ae5-4f0a-87e3-788a810d2a9b",
   "metadata": {},
   "outputs": [
    {
     "data": {
      "text/plain": [
       "25"
      ]
     },
     "execution_count": 30,
     "metadata": {},
     "output_type": "execute_result"
    }
   ],
   "source": [
    "square_v2(5)"
   ]
  },
  {
   "cell_type": "code",
   "execution_count": 31,
   "id": "df14638e-0b15-4a1c-aea0-544ccbc572bf",
   "metadata": {},
   "outputs": [
    {
     "data": {
      "text/plain": [
       "[1, 4, 9, 16, 25, 36]"
      ]
     },
     "execution_count": 31,
     "metadata": {},
     "output_type": "execute_result"
    }
   ],
   "source": [
    "list(map(lambda num: num ** 2, mynums))"
   ]
  },
  {
   "cell_type": "code",
   "execution_count": 35,
   "id": "46cd9798-429a-4232-a62e-340a4d7718d6",
   "metadata": {},
   "outputs": [
    {
     "data": {
      "text/plain": [
       "[2, 4, 6]"
      ]
     },
     "execution_count": 35,
     "metadata": {},
     "output_type": "execute_result"
    }
   ],
   "source": [
    "list(filter(lambda num: num%2 == 0,mynums))"
   ]
  },
  {
   "cell_type": "code",
   "execution_count": 36,
   "id": "4dc3e641-d3a1-4e01-afe2-aaa8646b0b07",
   "metadata": {},
   "outputs": [
    {
     "data": {
      "text/plain": [
       "['Axel', 'Ara', 'German']"
      ]
     },
     "execution_count": 36,
     "metadata": {},
     "output_type": "execute_result"
    }
   ],
   "source": [
    "names"
   ]
  },
  {
   "cell_type": "code",
   "execution_count": 41,
   "id": "9d3f7ff4-5549-4a91-bc25-f66a29e9beaa",
   "metadata": {},
   "outputs": [
    {
     "data": {
      "text/plain": [
       "['lexA', 'arA', 'namreG']"
      ]
     },
     "execution_count": 41,
     "metadata": {},
     "output_type": "execute_result"
    }
   ],
   "source": [
    "list(map(lambda name:name[::-1],names))"
   ]
  },
  {
   "cell_type": "code",
   "execution_count": null,
   "id": "a2db8794-6c47-41e6-8c7f-aef9d2bf1538",
   "metadata": {},
   "outputs": [],
   "source": []
  }
 ],
 "metadata": {
  "kernelspec": {
   "display_name": "Python 3 (ipykernel)",
   "language": "python",
   "name": "python3"
  },
  "language_info": {
   "codemirror_mode": {
    "name": "ipython",
    "version": 3
   },
   "file_extension": ".py",
   "mimetype": "text/x-python",
   "name": "python",
   "nbconvert_exporter": "python",
   "pygments_lexer": "ipython3",
   "version": "3.11.7"
  }
 },
 "nbformat": 4,
 "nbformat_minor": 5
}
