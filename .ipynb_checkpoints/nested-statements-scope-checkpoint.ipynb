{
 "cells": [
  {
   "cell_type": "markdown",
   "id": "91718f03-43c4-42c2-9772-59b3083fed13",
   "metadata": {},
   "source": [
    "<h1>Nested Statements and Scope</h1>"
   ]
  },
  {
   "cell_type": "code",
   "execution_count": 3,
   "id": "45e1fba5-34e2-4817-8d31-afd82afbcd50",
   "metadata": {},
   "outputs": [],
   "source": [
    "x = 25\n",
    "\n",
    "def printer():\n",
    "    x = 50\n",
    "    return x"
   ]
  },
  {
   "cell_type": "code",
   "execution_count": 4,
   "id": "0f278c28-e5ba-4d46-99db-beaeda13b8da",
   "metadata": {},
   "outputs": [
    {
     "name": "stdout",
     "output_type": "stream",
     "text": [
      "25\n"
     ]
    }
   ],
   "source": [
    "print(x)"
   ]
  },
  {
   "cell_type": "code",
   "execution_count": 5,
   "id": "ff5deedd-60a1-43e9-acf5-e1616b3979c4",
   "metadata": {},
   "outputs": [
    {
     "name": "stdout",
     "output_type": "stream",
     "text": [
      "50\n"
     ]
    }
   ],
   "source": [
    "print(printer())"
   ]
  },
  {
   "cell_type": "markdown",
   "id": "72eb6a6a-40a6-4470-b360-50232a5e547d",
   "metadata": {},
   "source": [
    "<h1>LEGB Rule:</h1>\n",
    "<li>L: Local - Names assigned in any way within a function (def or lambda), and not declared global in that function.</li>\n",
    "<li>E: Enclosing function locals - Names in the local scope of any and all enclosing functions (def or lambda), from inner to outer.</li>\n",
    "<li>G: Global (module) - Names assigned at the top-level of a module file, or declared global in a def within the file</li>\n",
    "<li>B: Built-in (Python) - Names preassigned in the built-in names module: open, range, SyntaxError,...</li>"
   ]
  },
  {
   "cell_type": "code",
   "execution_count": 7,
   "id": "7a30d671-ebf9-4af6-b989-9c36941fcc18",
   "metadata": {},
   "outputs": [],
   "source": [
    "#lambda num: num ** 2"
   ]
  },
  {
   "cell_type": "code",
   "execution_count": 13,
   "id": "ab16d17c-f886-4178-a204-6edceb03b63d",
   "metadata": {},
   "outputs": [
    {
     "name": "stdout",
     "output_type": "stream",
     "text": [
      "Hello, THIS IS A GLOBAL STRING\n"
     ]
    }
   ],
   "source": [
    "name = 'THIS IS A GLOBAL STRING'\n",
    "\n",
    "def greet():\n",
    "#    name = 'Axel'\n",
    "\n",
    "    def hello():\n",
    "#        name = 'IM A LOCAL'\n",
    "        print('Hello, ' + name)\n",
    "\n",
    "    hello()\n",
    "\n",
    "greet()"
   ]
  },
  {
   "cell_type": "code",
   "execution_count": 11,
   "id": "0687c12f-f607-4a81-a68e-9898b3117e82",
   "metadata": {},
   "outputs": [
    {
     "data": {
      "text/plain": [
       "'THIS IS A GLOBAL STRING'"
      ]
     },
     "execution_count": 11,
     "metadata": {},
     "output_type": "execute_result"
    }
   ],
   "source": [
    "name"
   ]
  },
  {
   "cell_type": "code",
   "execution_count": 23,
   "id": "4095e5b1-0909-4eb9-aae3-69d545b4351a",
   "metadata": {},
   "outputs": [],
   "source": [
    "x = 50\n",
    "\n",
    "def func(x):\n",
    "    print(f'X is {x}')\n",
    "    \n",
    "    x = 200\n",
    "    print(f'I JUST LOCALLY CHANGED GLOBAL X TO {x}')\n",
    "    \n",
    "    return x"
   ]
  },
  {
   "cell_type": "code",
   "execution_count": 26,
   "id": "40f2c43b-6ea4-467a-adfe-414442706df4",
   "metadata": {},
   "outputs": [
    {
     "name": "stdout",
     "output_type": "stream",
     "text": [
      "50\n"
     ]
    }
   ],
   "source": [
    "print(x)"
   ]
  },
  {
   "cell_type": "code",
   "execution_count": 28,
   "id": "08de4a9e-1b41-4d7e-a645-2f560d7de982",
   "metadata": {},
   "outputs": [
    {
     "name": "stdout",
     "output_type": "stream",
     "text": [
      "X is 200\n",
      "I JUST LOCALLY CHANGED GLOBAL X TO 200\n"
     ]
    }
   ],
   "source": [
    "x = func(x)"
   ]
  },
  {
   "cell_type": "code",
   "execution_count": 29,
   "id": "5c68222a-a745-45ce-91d3-eccb5df92229",
   "metadata": {},
   "outputs": [
    {
     "data": {
      "text/plain": [
       "200"
      ]
     },
     "execution_count": 29,
     "metadata": {},
     "output_type": "execute_result"
    }
   ],
   "source": [
    "x"
   ]
  },
  {
   "cell_type": "code",
   "execution_count": null,
   "id": "a6097ad9-95d8-4494-b4d2-39aff0df833f",
   "metadata": {},
   "outputs": [],
   "source": []
  }
 ],
 "metadata": {
  "kernelspec": {
   "display_name": "Python 3 (ipykernel)",
   "language": "python",
   "name": "python3"
  },
  "language_info": {
   "codemirror_mode": {
    "name": "ipython",
    "version": 3
   },
   "file_extension": ".py",
   "mimetype": "text/x-python",
   "name": "python",
   "nbconvert_exporter": "python",
   "pygments_lexer": "ipython3",
   "version": "3.11.7"
  }
 },
 "nbformat": 4,
 "nbformat_minor": 5
}
